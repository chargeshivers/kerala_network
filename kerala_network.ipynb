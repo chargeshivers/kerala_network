{
 "cells": [
  {
   "cell_type": "code",
   "execution_count": 4,
   "id": "6b69a671",
   "metadata": {},
   "outputs": [],
   "source": [
    "import pandas as pd\n",
    "#import numpy as np\n",
    "import networkx as nx\n",
    "from tqdm.auto import tqdm\n",
    "\n",
    "def shortest_paths(nodes, edges, subset):\n",
    "    graph = nx.DiGraph()\n",
    "    graph.add_nodes_from(nodes)\n",
    "    graph.add_weighted_edges_from(edges)\n",
    "    \n",
    "    shortest_paths_dict = {}\n",
    "    for start in tqdm(subset):\n",
    "        for end in tqdm(subset):\n",
    "            if start != end:\n",
    "                try:\n",
    "                    shortest_path = nx.shortest_path(graph, source=start, target=end, weight='weight')\n",
    "                    shortest_paths_dict[(start, end)] = shortest_path\n",
    "                except nx.NetworkXNoPath:\n",
    "                    shortest_paths_dict[(start, end)] = None\n",
    "    return shortest_paths_dict"
   ]
  },
  {
   "cell_type": "code",
   "execution_count": 10,
   "id": "1afdfa34",
   "metadata": {},
   "outputs": [
    {
     "data": {
      "text/plain": [
       "{'B': 0.0, 'D': 2.0}"
      ]
     },
     "execution_count": 10,
     "metadata": {},
     "output_type": "execute_result"
    }
   ],
   "source": [
    "def compute_subset_betweenness_centrality(nodes, edges, subset):\n",
    "    # Create a directed graph\n",
    "    graph = nx.DiGraph()\n",
    "    graph.add_nodes_from(nodes)\n",
    "    graph.add_weighted_edges_from(edges)\n",
    "    \n",
    "    # Compute betweenness centrality for the subset\n",
    "    betweenness_centrality = nx.betweenness_centrality_subset(graph, subset, subset, normalized=False, weight='weight')\n",
    "    \n",
    "    return {k : v for k,v in betweenness_centrality.items() if k not in subset}\n",
    "\n",
    "# Example usage:\n",
    "compute_subset_betweenness_centrality(nodes= ['A', 'B', 'C', 'D', 'E']\n",
    "                                      , edges= [('A', 'B', 2), ('A', 'C', 1), ('B', 'C', 3), ('B', 'D', 4), ('C', 'D', 2), ('D', 'E', 3)]\n",
    "                                      , subset= {'A','C' ,'E'})\n"
   ]
  },
  {
   "cell_type": "code",
   "execution_count": 6,
   "id": "5b9525ef",
   "metadata": {},
   "outputs": [],
   "source": [
    "TT_Kerala = pd.read_excel('TT_Kerala.xlsx', sheet_name='Sheet1')\n",
    "Node_Kerala = pd.read_excel('Node_Kerala.xlsx', sheet_name='Sheet1')"
   ]
  },
  {
   "cell_type": "code",
   "execution_count": null,
   "id": "500f4fbd",
   "metadata": {},
   "outputs": [],
   "source": [
    "%%time\n",
    "all_nodes = Node_Kerala['Node_name'].tolist()\n",
    "edges = TT_Kerala[['Start_Node','End_Node',6]].to_records(index=False).tolist()\n",
    "centroids = [_ for _ in Node_Kerala['Node_name'].tolist() if 'C' in _]\n",
    "centralities = compute_subset_betweenness_centrality(nodes = all_nodes\n",
    "                                      , edges = edges\n",
    "                                      , subset = centroids )"
   ]
  },
  {
   "cell_type": "code",
   "execution_count": null,
   "id": "2dee7137",
   "metadata": {},
   "outputs": [],
   "source": []
  }
 ],
 "metadata": {
  "kernelspec": {
   "display_name": "Python 3 (ipykernel)",
   "language": "python",
   "name": "python3"
  },
  "language_info": {
   "codemirror_mode": {
    "name": "ipython",
    "version": 3
   },
   "file_extension": ".py",
   "mimetype": "text/x-python",
   "name": "python",
   "nbconvert_exporter": "python",
   "pygments_lexer": "ipython3",
   "version": "3.8.16"
  }
 },
 "nbformat": 4,
 "nbformat_minor": 5
}
